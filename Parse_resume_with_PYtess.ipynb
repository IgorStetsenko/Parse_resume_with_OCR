{
 "cells": [
  {
   "cell_type": "code",
   "execution_count": 733,
   "metadata": {},
   "outputs": [],
   "source": [
    "import fitz\n",
    "from pdf2image import convert_from_path, convert_from_bytes\n",
    "from PIL import Image\n",
    "import pytesseract\n",
    "import matplotlib.pyplot as plt\n",
    "import os\n"
   ]
  },
  {
   "cell_type": "code",
   "execution_count": 755,
   "metadata": {},
   "outputs": [
    {
     "name": "stdout",
     "output_type": "stream",
     "text": [
      "o\n"
     ]
    }
   ],
   "source": [
    "text = 'hello'\n",
    "\n",
    "print(text[4:])"
   ]
  },
  {
   "cell_type": "code",
   "execution_count": 734,
   "metadata": {},
   "outputs": [
    {
     "name": "stdout",
     "output_type": "stream",
     "text": [
      "example_resume_1.pdf  Parse_resume_with_fitz.ipynb\r\n",
      "example_resume_2.pdf  \u001b[0m\u001b[01;34mparse_resume_with_OCR\u001b[0m/\r\n",
      "example_resume_3.pdf  Parse_resume_with_PYtess.ipynb\r\n",
      "\u001b[01;34mmupdf\u001b[0m/\r\n"
     ]
    }
   ],
   "source": [
    "ls"
   ]
  },
  {
   "cell_type": "code",
   "execution_count": null,
   "metadata": {},
   "outputs": [],
   "source": []
  },
  {
   "cell_type": "code",
   "execution_count": 735,
   "metadata": {},
   "outputs": [],
   "source": [
    "path_to_pdf = 'example_resume_2.pdf' #путь до файла\n",
    "#path_to_pdf = 'jpg2pdf.pdf'"
   ]
  },
  {
   "cell_type": "code",
   "execution_count": 736,
   "metadata": {},
   "outputs": [
    {
     "data": {
      "text/plain": [
       "6"
      ]
     },
     "execution_count": 736,
     "metadata": {},
     "output_type": "execute_result"
    }
   ],
   "source": [
    "fitz.open(path_to_pdf).pageCount"
   ]
  },
  {
   "cell_type": "code",
   "execution_count": 737,
   "metadata": {},
   "outputs": [],
   "source": [
    "def get_page_from_pdf(path_to_pdf):\n",
    "    '''Данная функция считывает PDF файл по указанному пути и \n",
    "        разбивает его на отдельные страницы\n",
    "        input: путь\n",
    "        return: список страниц, кол-во страниц'''\n",
    "    list_image = []\n",
    "    pdf = fitz.open(path_to_pdf)\n",
    "    number_of_list = pdf.pageCount\n",
    "    for page in pdf:\n",
    "        pix = page.getPixmap(alpha = False, matrix=fitz.Matrix(300/100,300/100))\n",
    "        mode = \"RGBA\" if pix.alpha else \"RGB\"\n",
    "        img = Image.frombytes(mode, [pix.width, pix.height], pix.samples)\n",
    "        list_image.append(img)\n",
    "    return list_image, number_of_list"
   ]
  },
  {
   "cell_type": "code",
   "execution_count": null,
   "metadata": {},
   "outputs": [],
   "source": []
  },
  {
   "cell_type": "code",
   "execution_count": 738,
   "metadata": {},
   "outputs": [],
   "source": [
    "# doc = fitz.open(path_to_pdf)\n",
    "# page = doc.loadPage()\n",
    "# type(page)"
   ]
  },
  {
   "cell_type": "code",
   "execution_count": 739,
   "metadata": {},
   "outputs": [],
   "source": [
    "list_image,number_of_list = get_page_from_pdf(path_to_pdf)"
   ]
  },
  {
   "cell_type": "code",
   "execution_count": 740,
   "metadata": {},
   "outputs": [
    {
     "data": {
      "text/plain": [
       "[<PIL.Image.Image image mode=RGB size=1786x2526 at 0x7F99DF8BD550>,\n",
       " <PIL.Image.Image image mode=RGB size=1786x2526 at 0x7F99DF8BDCC0>,\n",
       " <PIL.Image.Image image mode=RGB size=1786x2526 at 0x7F99DF8BDAC8>,\n",
       " <PIL.Image.Image image mode=RGB size=1786x2526 at 0x7F99DF8BD828>,\n",
       " <PIL.Image.Image image mode=RGB size=1786x2526 at 0x7F99DFA434A8>,\n",
       " <PIL.Image.Image image mode=RGB size=1786x2526 at 0x7F99DFA43DA0>]"
      ]
     },
     "execution_count": 740,
     "metadata": {},
     "output_type": "execute_result"
    }
   ],
   "source": [
    "list_image"
   ]
  },
  {
   "cell_type": "code",
   "execution_count": 741,
   "metadata": {},
   "outputs": [
    {
     "data": {
      "text/plain": [
       "6"
      ]
     },
     "execution_count": 741,
     "metadata": {},
     "output_type": "execute_result"
    }
   ],
   "source": [
    "number_of_list"
   ]
  },
  {
   "cell_type": "code",
   "execution_count": null,
   "metadata": {},
   "outputs": [],
   "source": []
  },
  {
   "cell_type": "code",
   "execution_count": 742,
   "metadata": {},
   "outputs": [],
   "source": [
    "def conver_text_image(list_image):\n",
    "    '''\n",
    "    Функция принимает на вход список страниц и преобразует серый цвет\n",
    "    шрифтов в чёрный для лучшего качества их распознавания.\n",
    "    input:список страниц\n",
    "    output: список конвертированных страниц\n",
    "    '''\n",
    "    convert_list_images = []\n",
    "    \n",
    "    for a in list_image:\n",
    "        \n",
    "        img = a.convert(\"RGBA\")\n",
    "        pixdata = img.load()\n",
    "        for y in range(img.size[1]):\n",
    "            for x in range(img.size[0]):\n",
    "                if pixdata[x, y] != (255, 255, 255, 255):\n",
    "                    pixdata[x, y] = (0, 0, 0, 255)\n",
    "    \n",
    "        convert_list_images.append(img)\n",
    "        \n",
    "    return convert_list_images"
   ]
  },
  {
   "cell_type": "code",
   "execution_count": 750,
   "metadata": {},
   "outputs": [
    {
     "ename": "NameError",
     "evalue": "name 'convert_list_images' is not defined",
     "output_type": "error",
     "traceback": [
      "\u001b[0;31m---------------------------------------------------------------------------\u001b[0m",
      "\u001b[0;31mNameError\u001b[0m                                 Traceback (most recent call last)",
      "\u001b[0;32m<ipython-input-750-8b8447590ce9>\u001b[0m in \u001b[0;36m<module>\u001b[0;34m\u001b[0m\n\u001b[0;32m----> 1\u001b[0;31m \u001b[0mtype\u001b[0m\u001b[0;34m(\u001b[0m\u001b[0mconvert_list_images\u001b[0m\u001b[0;34m)\u001b[0m\u001b[0;34m\u001b[0m\u001b[0;34m\u001b[0m\u001b[0m\n\u001b[0m",
      "\u001b[0;31mNameError\u001b[0m: name 'convert_list_images' is not defined"
     ]
    }
   ],
   "source": [
    "type(convert_list_images)"
   ]
  },
  {
   "cell_type": "code",
   "execution_count": null,
   "metadata": {},
   "outputs": [],
   "source": []
  },
  {
   "cell_type": "code",
   "execution_count": 743,
   "metadata": {},
   "outputs": [
    {
     "data": {
      "image/png": "[encoded data removed]",
      "text/plain": [
       "<Figure size 432x288 with 1 Axes>"
      ]
     },
     "metadata": {
      "needs_background": "light"
     },
     "output_type": "display_data"
    }
   ],
   "source": [
    "histogramm = img.histogram()\n",
    "\n",
    "plt.hist(histogramm,256,[0,256]) \n",
    "plt.show()"
   ]
  },
  {
   "cell_type": "code",
   "execution_count": 744,
   "metadata": {},
   "outputs": [],
   "source": [
    "# def find_target_page(image=img, search_header = None):\n",
    "#     '''Функция осуществляет поиск страницы с необходимым словосочетанием'''\n",
    "#     page_text = pytesseract.image_to_string(image, lang = 'rus').split('\\n')\n",
    "#     header = [i for i in page_text if search_header in i.lower()]\n",
    "#     if header != []:\n",
    "#         return header\n",
    "#     else:\n",
    "#         return error\n",
    "    "
   ]
  },
  {
   "cell_type": "code",
   "execution_count": null,
   "metadata": {},
   "outputs": [],
   "source": []
  },
  {
   "cell_type": "code",
   "execution_count": 745,
   "metadata": {},
   "outputs": [
    {
     "data": {
      "text/plain": [
       "list"
      ]
     },
     "execution_count": 745,
     "metadata": {},
     "output_type": "execute_result"
    }
   ],
   "source": [
    "type(list_image)"
   ]
  },
  {
   "cell_type": "code",
   "execution_count": 746,
   "metadata": {},
   "outputs": [],
   "source": [
    "# def test_target_page(conver_text_image):\n",
    "#     '''g'''\n",
    "#     data_of_pdf = []\n",
    "#     for x in conver_text_image:  \n",
    "#         page_text = pytesseract.image_to_string(x, lang = 'rus').split('\\n')\n",
    "#         data_of_pdf.append(page_text)\n",
    "#     return data_of_pdf"
   ]
  },
  {
   "cell_type": "code",
   "execution_count": null,
   "metadata": {},
   "outputs": [],
   "source": [
    "test_target_page(conver_text_image(list_image))"
   ]
  },
  {
   "cell_type": "code",
   "execution_count": null,
   "metadata": {},
   "outputs": [],
   "source": []
  },
  {
   "cell_type": "code",
   "execution_count": null,
   "metadata": {},
   "outputs": [],
   "source": []
  },
  {
   "cell_type": "code",
   "execution_count": 748,
   "metadata": {},
   "outputs": [],
   "source": [
    "def find_target_page(conver_text_image):\n",
    "    '''g'''\n",
    "    data_of_pdf = []\n",
    "    for x in conver_text_image:  \n",
    "        page_text = pytesseract.image_to_string(x, lang = 'rus').split('\\n')\n",
    "        search_text = ['родил', 'опыт работы', 'права']\n",
    "        age = [i for i in page_text if search_text[0] in i.lower()]\n",
    "        if age != []:\n",
    "            data_of_pdf.append(age)\n",
    "        \n",
    "        skil_of_job = [i for i in page_text if search_text[1] in i.lower()]\n",
    "        if skil_of_job != []:\n",
    "            data_of_pdf.append(skil_of_job)\n",
    "          \n",
    "        have_a_car = [i for i in page_text if search_text[2] in i.lower()]    \n",
    "        if have_a_car != []:\n",
    "            data_of_pdf.append(['Есть водительские права'])\n",
    "       \n",
    "    return data_of_pdf\n",
    "    "
   ]
  },
  {
   "cell_type": "code",
   "execution_count": null,
   "metadata": {},
   "outputs": [],
   "source": []
  },
  {
   "cell_type": "code",
   "execution_count": 749,
   "metadata": {},
   "outputs": [
    {
     "data": {
      "text/plain": [
       "[['Мужчина, 45 лет, родился 21 марта 1974'],\n",
       " ['Опыт работы — 20 лет 7 месяцев'],\n",
       " ['Есть водительские права']]"
      ]
     },
     "execution_count": 749,
     "metadata": {},
     "output_type": "execute_result"
    }
   ],
   "source": [
    "find_target_page(conver_text_image(list_image))"
   ]
  },
  {
   "cell_type": "code",
   "execution_count": null,
   "metadata": {},
   "outputs": [],
   "source": []
  },
  {
   "cell_type": "code",
   "execution_count": null,
   "metadata": {},
   "outputs": [],
   "source": []
  },
  {
   "cell_type": "code",
   "execution_count": null,
   "metadata": {},
   "outputs": [],
   "source": []
  },
  {
   "cell_type": "code",
   "execution_count": null,
   "metadata": {},
   "outputs": [],
   "source": []
  },
  {
   "cell_type": "code",
   "execution_count": null,
   "metadata": {},
   "outputs": [],
   "source": []
  },
  {
   "cell_type": "code",
   "execution_count": null,
   "metadata": {},
   "outputs": [],
   "source": []
  },
  {
   "cell_type": "code",
   "execution_count": null,
   "metadata": {},
   "outputs": [],
   "source": []
  },
  {
   "cell_type": "code",
   "execution_count": null,
   "metadata": {},
   "outputs": [],
   "source": []
  },
  {
   "cell_type": "code",
   "execution_count": 574,
   "metadata": {},
   "outputs": [
    {
     "data": {
      "text/plain": [
       "['27', '9', '1992']"
      ]
     },
     "execution_count": 574,
     "metadata": {},
     "output_type": "execute_result"
    }
   ],
   "source": [
    "re.findall(r'\\d+', stroka[0][0])"
   ]
  },
  {
   "cell_type": "code",
   "execution_count": 593,
   "metadata": {},
   "outputs": [
    {
     "data": {
      "text/plain": [
       "['2', '6']"
      ]
     },
     "execution_count": 593,
     "metadata": {},
     "output_type": "execute_result"
    }
   ],
   "source": [
    "re.findall(r'\\d+', stroka[1][0])"
   ]
  },
  {
   "cell_type": "code",
   "execution_count": 598,
   "metadata": {},
   "outputs": [],
   "source": [
    "def data_convertation(data_of_pdf):\n",
    "    age_of_candidate = ('возраст - '+(re.findall(r'\\d+', stroka[0][0]))[0] + ' лет')\n",
    "    skil_of_job = ('опыт работы - ' +(re.findall(r'\\d+', stroka[1][0]))[0]+'.'+ (re.findall(r'\\d+', stroka[1][0]))[1] + ' лет')\n",
    "    if data_of_pdf[2] != []:\n",
    "        have_auto = \n",
    "    return age_of_candidate, skil_of_job"
   ]
  },
  {
   "cell_type": "code",
   "execution_count": 599,
   "metadata": {},
   "outputs": [
    {
     "data": {
      "text/plain": [
       "('возраст - 27 лет', 'опыт работы - 2.6 лет')"
      ]
     },
     "execution_count": 599,
     "metadata": {},
     "output_type": "execute_result"
    }
   ],
   "source": [
    "data_convertation(data_of_pdf)"
   ]
  },
  {
   "cell_type": "code",
   "execution_count": null,
   "metadata": {},
   "outputs": [],
   "source": []
  },
  {
   "cell_type": "code",
   "execution_count": null,
   "metadata": {},
   "outputs": [],
   "source": []
  },
  {
   "cell_type": "code",
   "execution_count": null,
   "metadata": {},
   "outputs": [],
   "source": []
  },
  {
   "cell_type": "code",
   "execution_count": null,
   "metadata": {},
   "outputs": [],
   "source": []
  },
  {
   "cell_type": "code",
   "execution_count": null,
   "metadata": {},
   "outputs": [],
   "source": []
  },
  {
   "cell_type": "code",
   "execution_count": null,
   "metadata": {},
   "outputs": [],
   "source": []
  },
  {
   "cell_type": "code",
   "execution_count": null,
   "metadata": {},
   "outputs": [],
   "source": []
  },
  {
   "cell_type": "code",
   "execution_count": 405,
   "metadata": {},
   "outputs": [],
   "source": [
    "for x in list_image:  \n",
    "    page_text = pytesseract.image_to_string(img, lang = 'rus').split('\\n')\n",
    "    \n",
    "    search_text = ['лет', 'опыт работы', 'автомобиль']\n",
    "    age = [i for i in page_text if search_text[0] in i.lower()]\n",
    "    skil_of_job = [i for i in page_text if search_text[1] in i.lower()]\n",
    "    have_a_car = [i for i in page_text if search_text[2] in i.lower()]"
   ]
  },
  {
   "cell_type": "code",
   "execution_count": 419,
   "metadata": {},
   "outputs": [
    {
     "ename": "NameError",
     "evalue": "name 'convert_list_images' is not defined",
     "output_type": "error",
     "traceback": [
      "\u001b[0;31m---------------------------------------------------------------------------\u001b[0m",
      "\u001b[0;31mNameError\u001b[0m                                 Traceback (most recent call last)",
      "\u001b[0;32m<ipython-input-419-ff62e3b7908a>\u001b[0m in \u001b[0;36m<module>\u001b[0;34m\u001b[0m\n\u001b[0;32m----> 1\u001b[0;31m \u001b[0mfind_target_page\u001b[0m\u001b[0;34m(\u001b[0m\u001b[0mconvert_list_images\u001b[0m\u001b[0;34m)\u001b[0m\u001b[0;34m\u001b[0m\u001b[0;34m\u001b[0m\u001b[0m\n\u001b[0m",
      "\u001b[0;31mNameError\u001b[0m: name 'convert_list_images' is not defined"
     ]
    }
   ],
   "source": [
    "find_target_page(convert_list_images)"
   ]
  },
  {
   "cell_type": "code",
   "execution_count": null,
   "metadata": {},
   "outputs": [],
   "source": []
  },
  {
   "cell_type": "code",
   "execution_count": null,
   "metadata": {},
   "outputs": [],
   "source": []
  },
  {
   "cell_type": "code",
   "execution_count": null,
   "metadata": {},
   "outputs": [],
   "source": []
  },
  {
   "cell_type": "code",
   "execution_count": null,
   "metadata": {},
   "outputs": [],
   "source": []
  },
  {
   "cell_type": "code",
   "execution_count": null,
   "metadata": {},
   "outputs": [],
   "source": []
  },
  {
   "cell_type": "code",
   "execution_count": 318,
   "metadata": {},
   "outputs": [],
   "source": [
    "page_text = pytesseract.image_to_string(img, lang = 'rus').split('\\n')"
   ]
  },
  {
   "cell_type": "code",
   "execution_count": 319,
   "metadata": {},
   "outputs": [],
   "source": [
    "search_text = ['лет', 'опыт работы', 'автомобиль']"
   ]
  },
  {
   "cell_type": "code",
   "execution_count": 320,
   "metadata": {},
   "outputs": [
    {
     "data": {
      "text/plain": [
       "['Мужчина, 27 лет, родился 9 июня 1992']"
      ]
     },
     "execution_count": 320,
     "metadata": {},
     "output_type": "execute_result"
    }
   ],
   "source": [
    "[i for i in page_text if search_text[0] in i.lower()]"
   ]
  },
  {
   "cell_type": "code",
   "execution_count": 298,
   "metadata": {},
   "outputs": [],
   "source": [
    "# for i in page_text:\n",
    "#     if i.lower() == search_text[0]:\n",
    "#         print (i)\n",
    "#         i+=1\n",
    "#     else:\n",
    "#         print([])\n",
    "    \n",
    "#   #  if  in i.lower()"
   ]
  },
  {
   "cell_type": "code",
   "execution_count": null,
   "metadata": {},
   "outputs": [],
   "source": []
  },
  {
   "cell_type": "code",
   "execution_count": 280,
   "metadata": {},
   "outputs": [
    {
     "data": {
      "text/plain": [
       "['Рупоп 3 Тщопа! соигзе',\n",
       " 'Введение в Ва З‹епсе и машинное обучение',\n",
       " '',\n",
       " 'Основы СИ',\n",
       " '2019 Основы статистики',\n",
       " '2018 ЗОЕ Рипдатета! соигзе',\n",
       " '2016 Программирование на РуНоп',\n",
       " '',\n",
       " 'Ключевые навыки',\n",
       " '',\n",
       " 'Знание языков Русский — Родной',\n",
       " 'Английский — В2 — Средне-продвинутый',\n",
       " 'Немецкий — А1 — Начальный',\n",
       " '',\n",
       " ' ',\n",
       " '',\n",
       " 'Навыки',\n",
       " '',\n",
       " 'Опыт вождения',\n",
       " '',\n",
       " 'Имеется собственный автомобиль',\n",
       " 'Права категории В, С, В',\n",
       " '',\n",
       " 'Дополнительная информация',\n",
       " '',\n",
       " 'Обо мне Имею ряд научных статей, входящих в базы Эсориз и ВАК, среди них:',\n",
       " '- Тве спосе ое рипсре о ипсбопта ое зузет оЁЕ тадпеНс |еуцаНоп юг Пе демсе о!',\n",
       " 'Вюп-рейогтапсе {ез пд о! ромдег рептапег! тадпе',\n",
       " '- Оемеюртег( апа гезеагсй оГабоит Юг а@егтйоа Пе ВН сигуе изтд а эпае ритагу теазийпа',\n",
       " 'сопуепег Базед оп Ме те#под оГ/!-сае то4е!{е5{5',\n",
       " '- Апауз6 апа зуптез!$ ог або ит$ оЁ зоМпо шуегзе ргоШетз Бу пе#под$ о! с!аззса! ап Модет',\n",
       " 'ашщотайс сотто! Чнеогу',\n",
       " '- Анализ влияния критических дефектов магнитной системы электромагнита на его вебер-амперную',\n",
       " 'характеристику',\n",
       " '',\n",
       " 'Ссылка: НИрз/Амммм.зсориз.сопуащию/веа!лий?ащноМ9=571705255008',\n",
       " '',\n",
       " 'Стеценко Игорь * Резюме обновлено 31 марта 2020 в 17:08']"
      ]
     },
     "execution_count": 280,
     "metadata": {},
     "output_type": "execute_result"
    }
   ],
   "source": [
    "pytesseract.image_to_string(img, lang = 'rus').split('\\n')"
   ]
  },
  {
   "cell_type": "code",
   "execution_count": 262,
   "metadata": {},
   "outputs": [
    {
     "data": {
      "text/plain": [
       "['Имеется собственный автомобиль']"
      ]
     },
     "execution_count": 262,
     "metadata": {},
     "output_type": "execute_result"
    }
   ],
   "source": [
    "find_target_page(img, 'автомобиль')"
   ]
  },
  {
   "cell_type": "code",
   "execution_count": null,
   "metadata": {},
   "outputs": [],
   "source": []
  },
  {
   "cell_type": "code",
   "execution_count": null,
   "metadata": {},
   "outputs": [],
   "source": []
  },
  {
   "cell_type": "code",
   "execution_count": null,
   "metadata": {},
   "outputs": [],
   "source": []
  },
  {
   "cell_type": "code",
   "execution_count": null,
   "metadata": {},
   "outputs": [],
   "source": []
  },
  {
   "cell_type": "code",
   "execution_count": 157,
   "metadata": {},
   "outputs": [],
   "source": [
    "# def get_info(page_text, search_object = None):\n",
    "#     prepare_text = [i for i in page_text if i not in ['', ' ']]\n",
    "#     search_needed_row = [i for i in prepare_text if search_object in i.lower()][0]\n",
    "#     object_index = prepare_text.index(search_needed_row) + 1\n",
    "#     needed_object = prepare_text[object_index]\n",
    "    \n",
    "#     return needed_object"
   ]
  },
  {
   "cell_type": "code",
   "execution_count": 160,
   "metadata": {},
   "outputs": [
    {
     "name": "stdout",
     "output_type": "stream",
     "text": [
      "error\n",
      "error\n"
     ]
    }
   ],
   "source": [
    "for image in list_image:\n",
    "    page_text = find_target_page(image, search_header = 'анкета участника конференции')\n",
    "   \n",
    "    if page_text != []:\n",
    "        op = get_info(page_text, search_object = 'шифр конференции')\n",
    "        #top = get_info(page_text, search_object = 'место учебы или работы')\n",
    "        break\n",
    "    else:\n",
    "        print ('error')\n",
    "#print('ФИО: {0}'.format(op))\n",
    "#print('Тема: {0}'.format(top))"
   ]
  },
  {
   "cell_type": "code",
   "execution_count": null,
   "metadata": {},
   "outputs": [],
   "source": [
    "\n"
   ]
  },
  {
   "cell_type": "code",
   "execution_count": 71,
   "metadata": {},
   "outputs": [
    {
     "ename": "NameError",
     "evalue": "name 'image_to_data' is not defined",
     "output_type": "error",
     "traceback": [
      "\u001b[0;31m---------------------------------------------------------------------------\u001b[0m",
      "\u001b[0;31mNameError\u001b[0m                                 Traceback (most recent call last)",
      "\u001b[0;32m<ipython-input-71-95eedf8d196c>\u001b[0m in \u001b[0;36m<module>\u001b[0;34m\u001b[0m\n\u001b[0;32m----> 1\u001b[0;31m \u001b[0mimage_to_data\u001b[0m\u001b[0;34m\u001b[0m\u001b[0;34m\u001b[0m\u001b[0m\n\u001b[0m",
      "\u001b[0;31mNameError\u001b[0m: name 'image_to_data' is not defined"
     ]
    }
   ],
   "source": [
    "image_to_data #"
   ]
  },
  {
   "cell_type": "code",
   "execution_count": null,
   "metadata": {},
   "outputs": [],
   "source": []
  },
  {
   "cell_type": "code",
   "execution_count": null,
   "metadata": {},
   "outputs": [],
   "source": []
  },
  {
   "cell_type": "code",
   "execution_count": null,
   "metadata": {},
   "outputs": [],
   "source": []
  },
  {
   "cell_type": "code",
   "execution_count": null,
   "metadata": {},
   "outputs": [],
   "source": []
  },
  {
   "cell_type": "code",
   "execution_count": 25,
   "metadata": {},
   "outputs": [],
   "source": [
    "pdffile = path_to_pdf\n",
    "doc = fitz.open(pdffile)\n",
    "page = doc.loadPage(0) #number of page\n",
    "pix = page.getPixmap()\n",
    "output = \"outfile.png\"\n",
    "pix.writePNG(output)"
   ]
  },
  {
   "cell_type": "code",
   "execution_count": null,
   "metadata": {},
   "outputs": [],
   "source": []
  },
  {
   "cell_type": "code",
   "execution_count": null,
   "metadata": {},
   "outputs": [],
   "source": []
  },
  {
   "cell_type": "code",
   "execution_count": null,
   "metadata": {},
   "outputs": [],
   "source": []
  },
  {
   "cell_type": "code",
   "execution_count": null,
   "metadata": {},
   "outputs": [],
   "source": []
  },
  {
   "cell_type": "code",
   "execution_count": null,
   "metadata": {},
   "outputs": [],
   "source": []
  },
  {
   "cell_type": "code",
   "execution_count": null,
   "metadata": {},
   "outputs": [],
   "source": []
  },
  {
   "cell_type": "code",
   "execution_count": null,
   "metadata": {},
   "outputs": [],
   "source": []
  },
  {
   "cell_type": "code",
   "execution_count": null,
   "metadata": {},
   "outputs": [],
   "source": []
  },
  {
   "cell_type": "code",
   "execution_count": null,
   "metadata": {},
   "outputs": [],
   "source": []
  },
  {
   "cell_type": "code",
   "execution_count": null,
   "metadata": {},
   "outputs": [],
   "source": []
  },
  {
   "cell_type": "code",
   "execution_count": null,
   "metadata": {},
   "outputs": [],
   "source": []
  },
  {
   "cell_type": "code",
   "execution_count": null,
   "metadata": {},
   "outputs": [],
   "source": []
  },
  {
   "cell_type": "code",
   "execution_count": null,
   "metadata": {},
   "outputs": [],
   "source": []
  },
  {
   "cell_type": "code",
   "execution_count": null,
   "metadata": {},
   "outputs": [],
   "source": []
  },
  {
   "cell_type": "code",
   "execution_count": null,
   "metadata": {},
   "outputs": [],
   "source": []
  },
  {
   "cell_type": "code",
   "execution_count": null,
   "metadata": {},
   "outputs": [],
   "source": []
  },
  {
   "cell_type": "code",
   "execution_count": null,
   "metadata": {},
   "outputs": [],
   "source": []
  },
  {
   "cell_type": "code",
   "execution_count": null,
   "metadata": {},
   "outputs": [],
   "source": []
  },
  {
   "cell_type": "code",
   "execution_count": null,
   "metadata": {},
   "outputs": [],
   "source": []
  },
  {
   "cell_type": "code",
   "execution_count": null,
   "metadata": {},
   "outputs": [],
   "source": []
  },
  {
   "cell_type": "code",
   "execution_count": null,
   "metadata": {},
   "outputs": [],
   "source": []
  },
  {
   "cell_type": "code",
   "execution_count": null,
   "metadata": {},
   "outputs": [],
   "source": []
  },
  {
   "cell_type": "code",
   "execution_count": null,
   "metadata": {},
   "outputs": [],
   "source": []
  },
  {
   "cell_type": "code",
   "execution_count": null,
   "metadata": {},
   "outputs": [],
   "source": []
  },
  {
   "cell_type": "code",
   "execution_count": null,
   "metadata": {},
   "outputs": [],
   "source": []
  },
  {
   "cell_type": "code",
   "execution_count": null,
   "metadata": {},
   "outputs": [],
   "source": []
  },
  {
   "cell_type": "code",
   "execution_count": null,
   "metadata": {},
   "outputs": [],
   "source": []
  },
  {
   "cell_type": "code",
   "execution_count": null,
   "metadata": {},
   "outputs": [],
   "source": []
  },
  {
   "cell_type": "code",
   "execution_count": null,
   "metadata": {},
   "outputs": [],
   "source": []
  }
 ],
 "metadata": {
  "kernelspec": {
   "display_name": "Python 3",
   "language": "python",
   "name": "python3"
  },
  "language_info": {
   "codemirror_mode": {
    "name": "ipython",
    "version": 3
   },
   "file_extension": ".py",
   "mimetype": "text/x-python",
   "name": "python",
   "nbconvert_exporter": "python",
   "pygments_lexer": "ipython3",
   "version": "3.6.9"
  }
 },
 "nbformat": 4,
 "nbformat_minor": 2
}
